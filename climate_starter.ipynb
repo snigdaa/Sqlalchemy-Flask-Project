{
 "cells": [
  {
   "cell_type": "code",
   "execution_count": 1,
   "metadata": {},
   "outputs": [],
   "source": [
    "%matplotlib inline\n",
    "from matplotlib import style\n",
    "style.use('fivethirtyeight')\n",
    "import matplotlib.pyplot as plt"
   ]
  },
  {
   "cell_type": "code",
   "execution_count": 2,
   "metadata": {},
   "outputs": [],
   "source": [
    "import numpy as np\n",
    "import pandas as pd"
   ]
  },
  {
   "cell_type": "code",
   "execution_count": 3,
   "metadata": {},
   "outputs": [],
   "source": [
    "import datetime as dt"
   ]
  },
  {
   "cell_type": "markdown",
   "metadata": {},
   "source": [
    "# Reflect Tables into SQLAlchemy ORM"
   ]
  },
  {
   "cell_type": "code",
   "execution_count": 4,
   "metadata": {},
   "outputs": [],
   "source": [
    "# Python SQL toolkit and Object Relational Mapper\n",
    "import sqlalchemy\n",
    "from sqlalchemy.ext.automap import automap_base\n",
    "from sqlalchemy.orm import Session\n",
    "from sqlalchemy import create_engine, func, inspect\n",
    "\n",
    "import pymysql\n",
    "pymysql.install_as_MySQLdb()\n",
    "\n",
    "from flask import Flask, jsonify"
   ]
  },
  {
   "cell_type": "code",
   "execution_count": 5,
   "metadata": {},
   "outputs": [],
   "source": [
    "engine = create_engine(\"sqlite:///Resources/hawaii.sqlite\")"
   ]
  },
  {
   "cell_type": "code",
   "execution_count": 6,
   "metadata": {},
   "outputs": [],
   "source": [
    "# reflect an existing database into a new model\n",
    "Base = automap_base()\n",
    "# reflect the tables\n",
    "Base.prepare(engine, reflect=True)"
   ]
  },
  {
   "cell_type": "code",
   "execution_count": 7,
   "metadata": {},
   "outputs": [
    {
     "data": {
      "text/plain": [
       "['measurement', 'station']"
      ]
     },
     "execution_count": 7,
     "metadata": {},
     "output_type": "execute_result"
    }
   ],
   "source": [
    "# We can view all of the classes that automap found\n",
    "Base.classes.keys()"
   ]
  },
  {
   "cell_type": "code",
   "execution_count": 8,
   "metadata": {},
   "outputs": [],
   "source": [
    "# Save references to each table\n",
    "Measurement = Base.classes.measurement\n",
    "Station = Base.classes.station"
   ]
  },
  {
   "cell_type": "code",
   "execution_count": 9,
   "metadata": {},
   "outputs": [],
   "source": [
    "#Make a connection\n",
    "conn = engine.connect()"
   ]
  },
  {
   "cell_type": "code",
   "execution_count": 10,
   "metadata": {},
   "outputs": [],
   "source": [
    "# Create our session (link) from Python to the DB\n",
    "session = Session(engine)"
   ]
  },
  {
   "cell_type": "code",
   "execution_count": 11,
   "metadata": {},
   "outputs": [],
   "source": [
    "#Create an inspector\n",
    "inspector = inspect(conn)"
   ]
  },
  {
   "cell_type": "code",
   "execution_count": 12,
   "metadata": {},
   "outputs": [
    {
     "name": "stdout",
     "output_type": "stream",
     "text": [
      "['id', 'station', 'date', 'prcp', 'tobs']\n",
      "['id', 'station', 'name', 'latitude', 'longitude', 'elevation']\n"
     ]
    }
   ],
   "source": [
    "#List tables\n",
    "mcolumns = [m.key for m in Measurement.__table__.columns]\n",
    "print(mcolumns)\n",
    "scolumns = [s.key for s in Station.__table__.columns]\n",
    "print(scolumns)"
   ]
  },
  {
   "cell_type": "markdown",
   "metadata": {},
   "source": [
    "# Exploratory Climate Analysis"
   ]
  },
  {
   "cell_type": "code",
   "execution_count": 17,
   "metadata": {},
   "outputs": [
    {
     "data": {
      "text/html": [
       "<div>\n",
       "<style scoped>\n",
       "    .dataframe tbody tr th:only-of-type {\n",
       "        vertical-align: middle;\n",
       "    }\n",
       "\n",
       "    .dataframe tbody tr th {\n",
       "        vertical-align: top;\n",
       "    }\n",
       "\n",
       "    .dataframe thead th {\n",
       "        text-align: right;\n",
       "    }\n",
       "</style>\n",
       "<table border=\"1\" class=\"dataframe\">\n",
       "  <thead>\n",
       "    <tr style=\"text-align: right;\">\n",
       "      <th></th>\n",
       "      <th>Date</th>\n",
       "      <th>Precipitation</th>\n",
       "    </tr>\n",
       "  </thead>\n",
       "  <tbody>\n",
       "    <tr>\n",
       "      <th>0</th>\n",
       "      <td>2016-08-25</td>\n",
       "      <td>0.08</td>\n",
       "    </tr>\n",
       "    <tr>\n",
       "      <th>1</th>\n",
       "      <td>2016-08-26</td>\n",
       "      <td>0.00</td>\n",
       "    </tr>\n",
       "    <tr>\n",
       "      <th>2</th>\n",
       "      <td>2016-08-27</td>\n",
       "      <td>0.00</td>\n",
       "    </tr>\n",
       "    <tr>\n",
       "      <th>3</th>\n",
       "      <td>2016-08-28</td>\n",
       "      <td>0.01</td>\n",
       "    </tr>\n",
       "    <tr>\n",
       "      <th>4</th>\n",
       "      <td>2016-08-29</td>\n",
       "      <td>0.00</td>\n",
       "    </tr>\n",
       "  </tbody>\n",
       "</table>\n",
       "</div>"
      ],
      "text/plain": [
       "         Date  Precipitation\n",
       "0  2016-08-25           0.08\n",
       "1  2016-08-26           0.00\n",
       "2  2016-08-27           0.00\n",
       "3  2016-08-28           0.01\n",
       "4  2016-08-29           0.00"
      ]
     },
     "execution_count": 17,
     "metadata": {},
     "output_type": "execute_result"
    }
   ],
   "source": [
    "# Design a query to retrieve the last 12 months of precipitation data and plot the results\n",
    "\n",
    "#get current time in terms of EST because we're in EST\n",
    "\n",
    "#from pytz import timezone\n",
    "#tz = timezone('EST')\n",
    "#currentTime = dt.datetime.now(tz)\n",
    "\n",
    "#get time from 12 months ago (52 weeks)\n",
    "\n",
    "#oneYrAgo = currentTime - dt.timedelta(weeks=52)\n",
    "#print(oneYrAgo)\n",
    "\n",
    "#last12Months = session.query(Measurement).filter(Measurement.date > oneYrAgo).all()\n",
    "#print(last12Months)\n",
    "#Above method doesn't work since the latest entry in table is from 2017, so let's do\n",
    "#last 12 months from the last date in the column\n",
    "\n",
    "latestDate = dt.datetime.strptime(session.query(Measurement.date).\\\n",
    "                                  order_by('date desc').first()[0],'%Y-%m-%d')\n",
    "oneYrBefore = latestDate - dt.timedelta(weeks=52)\n",
    "last12Months = session.query(Measurement.date, Measurement.prcp).filter(Measurement.date>=oneYrBefore).all()\n",
    "#print(last12Months)\n",
    "# Calculate the date 1 year ago from the last data point in the database\n",
    "# Perform a query to retrieve the data and precipitation scores\n",
    "\n",
    "#whoops I just saw these I'm sorry ^^\n",
    "\n",
    "# Save the query results as a Pandas DataFrame and set the index to the date column\n",
    "precipdf = pd.DataFrame(last12Months, columns = ['Date','Precipitation'])\n",
    "#precipdf = precipdf.dropna().set_index('Date')\n",
    "precipdf.head()"
   ]
  },
  {
   "cell_type": "code",
   "execution_count": 18,
   "metadata": {
    "scrolled": true
   },
   "outputs": [
    {
     "data": {
      "image/png": "[encoded data removed]",
      "text/plain": [
       "<Figure size 432x288 with 1 Axes>"
      ]
     },
     "metadata": {
      "needs_background": "light"
     },
     "output_type": "display_data"
    }
   ],
   "source": [
    "# Sort the dataframe by date\n",
    "precipdf = precipdf.sort_values(by='Date', ascending = False)\n",
    "precipdf\n",
    "\n",
    "# Use Pandas Plotting with Matplotlib to plot the data\n",
    "fig,ax = plt.subplots()\n",
    "ax.bar(precipdf.index,precipdf['Precipitation'],label='Precipitation')\n",
    "ax.grid(which={'both'},axis={'both'},linestyle='-',linewidth=2)\n",
    "ax.set_xticks([])\n",
    "ax.set_xlabel('Date')\n",
    "ax.legend()\n",
    "plt.show()"
   ]
  },
  {
   "cell_type": "code",
   "execution_count": 16,
   "metadata": {},
   "outputs": [
    {
     "data": {
      "text/html": [
       "<div>\n",
       "<style scoped>\n",
       "    .dataframe tbody tr th:only-of-type {\n",
       "        vertical-align: middle;\n",
       "    }\n",
       "\n",
       "    .dataframe tbody tr th {\n",
       "        vertical-align: top;\n",
       "    }\n",
       "\n",
       "    .dataframe thead th {\n",
       "        text-align: right;\n",
       "    }\n",
       "</style>\n",
       "<table border=\"1\" class=\"dataframe\">\n",
       "  <thead>\n",
       "    <tr style=\"text-align: right;\">\n",
       "      <th></th>\n",
       "      <th>Precipitation</th>\n",
       "    </tr>\n",
       "  </thead>\n",
       "  <tbody>\n",
       "    <tr>\n",
       "      <th>count</th>\n",
       "      <td>2009.000000</td>\n",
       "    </tr>\n",
       "    <tr>\n",
       "      <th>mean</th>\n",
       "      <td>0.172344</td>\n",
       "    </tr>\n",
       "    <tr>\n",
       "      <th>std</th>\n",
       "      <td>0.452818</td>\n",
       "    </tr>\n",
       "    <tr>\n",
       "      <th>min</th>\n",
       "      <td>0.000000</td>\n",
       "    </tr>\n",
       "    <tr>\n",
       "      <th>25%</th>\n",
       "      <td>0.000000</td>\n",
       "    </tr>\n",
       "    <tr>\n",
       "      <th>50%</th>\n",
       "      <td>0.020000</td>\n",
       "    </tr>\n",
       "    <tr>\n",
       "      <th>75%</th>\n",
       "      <td>0.130000</td>\n",
       "    </tr>\n",
       "    <tr>\n",
       "      <th>max</th>\n",
       "      <td>6.700000</td>\n",
       "    </tr>\n",
       "  </tbody>\n",
       "</table>\n",
       "</div>"
      ],
      "text/plain": [
       "       Precipitation\n",
       "count    2009.000000\n",
       "mean        0.172344\n",
       "std         0.452818\n",
       "min         0.000000\n",
       "25%         0.000000\n",
       "50%         0.020000\n",
       "75%         0.130000\n",
       "max         6.700000"
      ]
     },
     "execution_count": 16,
     "metadata": {},
     "output_type": "execute_result"
    }
   ],
   "source": [
    "# Use Pandas to calculate the summary statistics for the precipitation data\n",
    "precipdf.describe()"
   ]
  },
  {
   "cell_type": "code",
   "execution_count": 17,
   "metadata": {},
   "outputs": [
    {
     "data": {
      "text/plain": [
       "9"
      ]
     },
     "execution_count": 17,
     "metadata": {},
     "output_type": "execute_result"
    }
   ],
   "source": [
    "# Design a query to show how many stations are available in this dataset?\n",
    "countStations = session.query(Measurement.station).group_by(Measurement.station).count()\n",
    "countStations"
   ]
  },
  {
   "cell_type": "code",
   "execution_count": 18,
   "metadata": {},
   "outputs": [
    {
     "name": "stdout",
     "output_type": "stream",
     "text": [
      "Station USC00519281 has the highest number of observations\n"
     ]
    },
    {
     "data": {
      "text/plain": [
       "[('USC00519281', 2772),\n",
       " ('USC00519397', 2724),\n",
       " ('USC00513117', 2709),\n",
       " ('USC00519523', 2669),\n",
       " ('USC00516128', 2612),\n",
       " ('USC00514830', 2202),\n",
       " ('USC00511918', 1979),\n",
       " ('USC00517948', 1372),\n",
       " ('USC00518838', 511)]"
      ]
     },
     "execution_count": 18,
     "metadata": {},
     "output_type": "execute_result"
    }
   ],
   "source": [
    "# What are the most active stations? (i.e. what stations have the most rows)?\n",
    "# List the stations and the counts in descending order.\n",
    "stations = session.query(Measurement.station, func.count(Measurement.id)).order_by(func.count(Measurement.id).desc()).group_by(Measurement.station).all()\n",
    "print(f\"Station {stations[0][0]} has the highest number of observations\")\n",
    "stations"
   ]
  },
  {
   "cell_type": "code",
   "execution_count": 19,
   "metadata": {},
   "outputs": [
    {
     "data": {
      "text/plain": [
       "[(54.0, 85.0, 71.66378066378067)]"
      ]
     },
     "execution_count": 19,
     "metadata": {},
     "output_type": "execute_result"
    }
   ],
   "source": [
    "# Using the station id from the previous query, calculate the lowest temperature recorded, \n",
    "# highest temperature recorded, and average temperature most active station?\n",
    "mostActiveStats = session.query(func.min(Measurement.tobs),\\\n",
    "                               func.max(Measurement.tobs),\n",
    "                               func.avg(Measurement.tobs)).filter(Measurement.station==stations[0][0]).all()\n",
    "mostActiveStats"
   ]
  },
  {
   "cell_type": "code",
   "execution_count": 20,
   "metadata": {},
   "outputs": [
    {
     "data": {
      "text/plain": [
       "<matplotlib.axes._subplots.AxesSubplot at 0x1dfc0d73240>"
      ]
     },
     "execution_count": 20,
     "metadata": {},
     "output_type": "execute_result"
    },
    {
     "data": {
      "image/png": "[encoded data removed]",
      "text/plain": [
       "<Figure size 432x288 with 1 Axes>"
      ]
     },
     "metadata": {
      "needs_background": "light"
     },
     "output_type": "display_data"
    }
   ],
   "source": [
    "# Choose the station with the highest number of temperature observations.\n",
    "# Query the last 12 months of temperature observation data for this station and plot the results as a histogram\n",
    "highTemp = session.query(Measurement.station,func.count(Measurement.tobs)).group_by(Measurement.station).order_by(func.count(Measurement.tobs).desc()).first()\n",
    "highTemp[0]\n",
    "temp12Months = session.query(Measurement.tobs, Measurement.station).filter(Measurement.date >= oneYrBefore).filter(Measurement.station==highTemp[0]).all()\n",
    "temp12Months\n",
    "\n",
    "tempdf = pd.DataFrame(temp12Months, columns = ['Tobs','Station'])\n",
    "tempdf.plot(kind='hist',bins=12)\n"
   ]
  },
  {
   "cell_type": "code",
   "execution_count": 21,
   "metadata": {},
   "outputs": [
    {
     "name": "stdout",
     "output_type": "stream",
     "text": [
      "[(62.0, 69.57142857142857, 74.0)]\n"
     ]
    }
   ],
   "source": [
    "# This function called `calc_temps` will accept start date and end date in the format '%Y-%m-%d' \n",
    "# and return the minimum, average, and maximum temperatures for that range of dates\n",
    "def calc_temps(start_date, end_date):\n",
    "    \"\"\"TMIN, TAVG, and TMAX for a list of dates.\n",
    "    \n",
    "    Args:\n",
    "        start_date (string): A date string in the format %Y-%m-%d\n",
    "        end_date (string): A date string in the format %Y-%m-%d\n",
    "        \n",
    "    Returns:\n",
    "        TMIN, TAVE, and TMAX\n",
    "    \"\"\"\n",
    "    \n",
    "    return session.query(func.min(Measurement.tobs), func.avg(Measurement.tobs), func.max(Measurement.tobs)).\\\n",
    "        filter(Measurement.date >= start_date).filter(Measurement.date <= end_date).all()\n",
    "\n",
    "# function usage example\n",
    "print(calc_temps('2012-02-28', '2012-03-05'))"
   ]
  },
  {
   "cell_type": "code",
   "execution_count": 22,
   "metadata": {},
   "outputs": [
    {
     "name": "stdout",
     "output_type": "stream",
     "text": [
      "(72.0, 77.69565217391305, 81.0)\n",
      "Min temp: 72.0\n",
      "Max temp: 81.0\n",
      "Average temp: 77.69565217391305\n"
     ]
    }
   ],
   "source": [
    "# Use your previous function `calc_temps` to calculate the tmin, tavg, and tmax \n",
    "# for your trip using the previous year's data for those same dates.\n",
    "\n",
    "#Trip is from 2017-06-03 to 2017-06-09\n",
    "\n",
    "temperatures = calc_temps('2017-06-03','2017-06-09')\n",
    "print(temperatures[0])\n",
    "print(f\"Min temp: {temperatures[0][0]}\\nMax temp: {temperatures[0][2]}\")\n",
    "print(f\"Average temp: {temperatures[0][1]}\")"
   ]
  },
  {
   "cell_type": "code",
   "execution_count": 23,
   "metadata": {
    "scrolled": true
   },
   "outputs": [
    {
     "data": {
      "image/png": "[encoded data removed]",
      "text/plain": [
       "<Figure size 360x936 with 1 Axes>"
      ]
     },
     "metadata": {
      "needs_background": "light"
     },
     "output_type": "display_data"
    }
   ],
   "source": [
    "# Plot the results from your previous query as a bar chart. \n",
    "# Use \"Trip Avg Temp\" as your Title\n",
    "# Use the average temperature for the y value\n",
    "# Use the peak-to-peak (tmax-tmin) value as the y error bar (yerr)\n",
    "fig1, ax1 = plt.subplots(figsize=[5,13])\n",
    "ax1.set_xticklabels([])\n",
    "ax1.set_ylabel('Temp (F)')\n",
    "ax1.bar(0, temperatures[0][1], color='salmon', align = 'edge',\n",
    "        yerr=(temperatures[0][2]-temperatures[0][0]),\n",
    "        width = 0.00001, linewidth=0, alpha=0.6)\n",
    "ax1.xaxis.grid()\n",
    "ax1.set_yticks([0,20,40,60,80,100])\n",
    "plt.title('Trip Avg Temp')\n",
    "plt.show()"
   ]
  },
  {
   "cell_type": "code",
   "execution_count": 24,
   "metadata": {},
   "outputs": [
    {
     "name": "stdout",
     "output_type": "stream",
     "text": [
      "['id', 'station', 'date', 'prcp', 'tobs'] ['id', 'station', 'name', 'latitude', 'longitude', 'elevation']\n"
     ]
    }
   ],
   "source": [
    "print(mcolumns,scolumns)"
   ]
  },
  {
   "cell_type": "code",
   "execution_count": 31,
   "metadata": {},
   "outputs": [
    {
     "data": {
      "text/html": [
       "<div>\n",
       "<style scoped>\n",
       "    .dataframe tbody tr th:only-of-type {\n",
       "        vertical-align: middle;\n",
       "    }\n",
       "\n",
       "    .dataframe tbody tr th {\n",
       "        vertical-align: top;\n",
       "    }\n",
       "\n",
       "    .dataframe thead th {\n",
       "        text-align: right;\n",
       "    }\n",
       "</style>\n",
       "<table border=\"1\" class=\"dataframe\">\n",
       "  <thead>\n",
       "    <tr style=\"text-align: right;\">\n",
       "      <th></th>\n",
       "      <th>Station ID</th>\n",
       "      <th>Station Name</th>\n",
       "      <th>Precipitation</th>\n",
       "      <th>Latitude</th>\n",
       "      <th>Longitude</th>\n",
       "      <th>Elevation</th>\n",
       "    </tr>\n",
       "  </thead>\n",
       "  <tbody>\n",
       "    <tr>\n",
       "      <th>0</th>\n",
       "      <td>USC00516128</td>\n",
       "      <td>MANOA LYON ARBO 785.2, HI US</td>\n",
       "      <td>0.84</td>\n",
       "      <td>21.33310</td>\n",
       "      <td>-157.80250</td>\n",
       "      <td>152.4</td>\n",
       "    </tr>\n",
       "    <tr>\n",
       "      <th>1</th>\n",
       "      <td>USC00513117</td>\n",
       "      <td>KANEOHE 838.1, HI US</td>\n",
       "      <td>0.39</td>\n",
       "      <td>21.42340</td>\n",
       "      <td>-157.80150</td>\n",
       "      <td>14.6</td>\n",
       "    </tr>\n",
       "    <tr>\n",
       "      <th>2</th>\n",
       "      <td>USC00519281</td>\n",
       "      <td>WAIHEE 837.5, HI US</td>\n",
       "      <td>0.28</td>\n",
       "      <td>21.45167</td>\n",
       "      <td>-157.84889</td>\n",
       "      <td>32.9</td>\n",
       "    </tr>\n",
       "    <tr>\n",
       "      <th>3</th>\n",
       "      <td>USC00514830</td>\n",
       "      <td>KUALOA RANCH HEADQUARTERS 886.9, HI US</td>\n",
       "      <td>0.24</td>\n",
       "      <td>21.52130</td>\n",
       "      <td>-157.83740</td>\n",
       "      <td>7.0</td>\n",
       "    </tr>\n",
       "    <tr>\n",
       "      <th>4</th>\n",
       "      <td>USC00519523</td>\n",
       "      <td>WAIMANALO EXPERIMENTAL FARM, HI US</td>\n",
       "      <td>0.15</td>\n",
       "      <td>21.33556</td>\n",
       "      <td>-157.71139</td>\n",
       "      <td>19.5</td>\n",
       "    </tr>\n",
       "    <tr>\n",
       "      <th>5</th>\n",
       "      <td>USC00519397</td>\n",
       "      <td>WAIKIKI 717.2, HI US</td>\n",
       "      <td>0.02</td>\n",
       "      <td>21.27160</td>\n",
       "      <td>-157.81680</td>\n",
       "      <td>3.0</td>\n",
       "    </tr>\n",
       "    <tr>\n",
       "      <th>6</th>\n",
       "      <td>USC00517948</td>\n",
       "      <td>PEARL CITY, HI US</td>\n",
       "      <td>NaN</td>\n",
       "      <td>21.39340</td>\n",
       "      <td>-157.97510</td>\n",
       "      <td>11.9</td>\n",
       "    </tr>\n",
       "  </tbody>\n",
       "</table>\n",
       "</div>"
      ],
      "text/plain": [
       "    Station ID                            Station Name  Precipitation  \\\n",
       "0  USC00516128            MANOA LYON ARBO 785.2, HI US           0.84   \n",
       "1  USC00513117                    KANEOHE 838.1, HI US           0.39   \n",
       "2  USC00519281                     WAIHEE 837.5, HI US           0.28   \n",
       "3  USC00514830  KUALOA RANCH HEADQUARTERS 886.9, HI US           0.24   \n",
       "4  USC00519523      WAIMANALO EXPERIMENTAL FARM, HI US           0.15   \n",
       "5  USC00519397                    WAIKIKI 717.2, HI US           0.02   \n",
       "6  USC00517948                       PEARL CITY, HI US            NaN   \n",
       "\n",
       "   Latitude  Longitude  Elevation  \n",
       "0  21.33310 -157.80250      152.4  \n",
       "1  21.42340 -157.80150       14.6  \n",
       "2  21.45167 -157.84889       32.9  \n",
       "3  21.52130 -157.83740        7.0  \n",
       "4  21.33556 -157.71139       19.5  \n",
       "5  21.27160 -157.81680        3.0  \n",
       "6  21.39340 -157.97510       11.9  "
      ]
     },
     "execution_count": 31,
     "metadata": {},
     "output_type": "execute_result"
    }
   ],
   "source": [
    "# Calculate the rainfall per weather station for your trip dates using the previous year's matching dates.\n",
    "# Sort this in descending order by precipitation amount and list the station, name, latitude, longitude, and elevation\n",
    "#'2017-06-03','2017-06-09'\n",
    "\n",
    "rainfall = session.query(Measurement.station, Station.name, func.sum(Measurement.prcp),Station.latitude,Station.longitude,Station.elevation).\\\n",
    "filter(Measurement.date >= '2017-06-03').filter(Measurement.date <= '2017-06-09').\\\n",
    "filter(Measurement.station==Station.station).group_by(Measurement.station).order_by(func.sum(Measurement.prcp).desc()).all()\n",
    "rainfall\n",
    "raindf = pd.DataFrame(rainfall, columns=['Station ID','Station Name', 'Precipitation', 'Latitude', 'Longitude', 'Elevation'])\n",
    "prcp = raindf.to_dict('index')"
   ]
  },
  {
   "cell_type": "markdown",
   "metadata": {},
   "source": [
    "## Optional Challenge Assignment"
   ]
  },
  {
   "cell_type": "code",
   "execution_count": 26,
   "metadata": {},
   "outputs": [
    {
     "data": {
      "text/plain": [
       "[(62.0, 69.15384615384616, 77.0)]"
      ]
     },
     "execution_count": 26,
     "metadata": {},
     "output_type": "execute_result"
    }
   ],
   "source": [
    "# Create a query that will calculate the daily normals \n",
    "# (i.e. the averages for tmin, tmax, and tavg for all historic data matching a specific month and day)\n",
    "\n",
    "def daily_normals(date):\n",
    "    \"\"\"Daily Normals.\n",
    "    \n",
    "    Args:\n",
    "        date (str): A date string in the format '%m-%d'\n",
    "        \n",
    "    Returns:\n",
    "        A list of tuples containing the daily normals, tmin, tavg, and tmax\n",
    "    \n",
    "    \"\"\"\n",
    "    \n",
    "    sel = [func.min(Measurement.tobs), func.avg(Measurement.tobs), func.max(Measurement.tobs)]\n",
    "    return session.query(*sel).filter(func.strftime(\"%m-%d\", Measurement.date) == date).all()\n",
    "    \n",
    "daily_normals(\"01-01\")"
   ]
  },
  {
   "cell_type": "code",
   "execution_count": 27,
   "metadata": {},
   "outputs": [
    {
     "data": {
      "text/plain": [
       "[(65.0, 74.03448275862068, 80.0),\n",
       " (65.0, 73.81818181818181, 81.0),\n",
       " (68.0, 74.85454545454546, 81.0),\n",
       " (70.0, 75.17543859649123, 80.0),\n",
       " (68.0, 75.07142857142857, 81.0),\n",
       " (70.0, 75.58620689655173, 81.0),\n",
       " (69.0, 75.15254237288136, 81.0)]"
      ]
     },
     "execution_count": 27,
     "metadata": {},
     "output_type": "execute_result"
    }
   ],
   "source": [
    "# calculate the daily normals for your trip\n",
    "# push each tuple of calculations into a list called `normals`\n",
    "\n",
    "# Set the start and end date of the trip\n",
    "#'2017-06-03','2017-06-09'\n",
    "start = dt.datetime.strptime(\"2017-06-03\",\"%Y-%m-%d\")\n",
    "end = dt.datetime.strptime(\"2017-06-09\",\"%Y-%m-%d\")\n",
    "# Use the start and end date to create a range of dates\n",
    "generateDates = [start + dt.timedelta(days=x) for x in range(0,(end-start).days+1)]  \n",
    "# Stip off the year and save a list of %m-%d strings\n",
    "strippedDates = []\n",
    "for date in generateDates:\n",
    "    strippedDates.append(date.strftime(\"%m-%d\"))\n",
    "# Loop through the list of %m-%d strings and calculate the normals for each date\n",
    "normals = []\n",
    "for day in strippedDates:\n",
    "    normals.append(daily_normals(day)[0])\n",
    "normals"
   ]
  },
  {
   "cell_type": "code",
   "execution_count": 28,
   "metadata": {},
   "outputs": [
    {
     "data": {
      "text/html": [
       "<div>\n",
       "<style scoped>\n",
       "    .dataframe tbody tr th:only-of-type {\n",
       "        vertical-align: middle;\n",
       "    }\n",
       "\n",
       "    .dataframe tbody tr th {\n",
       "        vertical-align: top;\n",
       "    }\n",
       "\n",
       "    .dataframe thead th {\n",
       "        text-align: right;\n",
       "    }\n",
       "</style>\n",
       "<table border=\"1\" class=\"dataframe\">\n",
       "  <thead>\n",
       "    <tr style=\"text-align: right;\">\n",
       "      <th></th>\n",
       "      <th>tmin</th>\n",
       "      <th>tavg</th>\n",
       "      <th>tmax</th>\n",
       "    </tr>\n",
       "    <tr>\n",
       "      <th>Date</th>\n",
       "      <th></th>\n",
       "      <th></th>\n",
       "      <th></th>\n",
       "    </tr>\n",
       "  </thead>\n",
       "  <tbody>\n",
       "    <tr>\n",
       "      <th>2017-06-03</th>\n",
       "      <td>65.0</td>\n",
       "      <td>74.034483</td>\n",
       "      <td>80.0</td>\n",
       "    </tr>\n",
       "    <tr>\n",
       "      <th>2017-06-04</th>\n",
       "      <td>65.0</td>\n",
       "      <td>73.818182</td>\n",
       "      <td>81.0</td>\n",
       "    </tr>\n",
       "    <tr>\n",
       "      <th>2017-06-05</th>\n",
       "      <td>68.0</td>\n",
       "      <td>74.854545</td>\n",
       "      <td>81.0</td>\n",
       "    </tr>\n",
       "    <tr>\n",
       "      <th>2017-06-06</th>\n",
       "      <td>70.0</td>\n",
       "      <td>75.175439</td>\n",
       "      <td>80.0</td>\n",
       "    </tr>\n",
       "    <tr>\n",
       "      <th>2017-06-07</th>\n",
       "      <td>68.0</td>\n",
       "      <td>75.071429</td>\n",
       "      <td>81.0</td>\n",
       "    </tr>\n",
       "    <tr>\n",
       "      <th>2017-06-08</th>\n",
       "      <td>70.0</td>\n",
       "      <td>75.586207</td>\n",
       "      <td>81.0</td>\n",
       "    </tr>\n",
       "    <tr>\n",
       "      <th>2017-06-09</th>\n",
       "      <td>69.0</td>\n",
       "      <td>75.152542</td>\n",
       "      <td>81.0</td>\n",
       "    </tr>\n",
       "  </tbody>\n",
       "</table>\n",
       "</div>"
      ],
      "text/plain": [
       "            tmin       tavg  tmax\n",
       "Date                             \n",
       "2017-06-03  65.0  74.034483  80.0\n",
       "2017-06-04  65.0  73.818182  81.0\n",
       "2017-06-05  68.0  74.854545  81.0\n",
       "2017-06-06  70.0  75.175439  80.0\n",
       "2017-06-07  68.0  75.071429  81.0\n",
       "2017-06-08  70.0  75.586207  81.0\n",
       "2017-06-09  69.0  75.152542  81.0"
      ]
     },
     "execution_count": 28,
     "metadata": {},
     "output_type": "execute_result"
    }
   ],
   "source": [
    "# Load the previous query results into a Pandas DataFrame and add the `trip_dates` range as the `date` index\n",
    "tripTempDf = pd.DataFrame(normals, columns=['tmin','tavg','tmax'])\n",
    "tripTempDf['Date'] = generateDates\n",
    "tripTempDf = tripTempDf.set_index('Date')\n",
    "tripTempDf"
   ]
  },
  {
   "cell_type": "code",
   "execution_count": 39,
   "metadata": {},
   "outputs": [
    {
     "data": {
      "image/png": "[encoded data removed]",
      "text/plain": [
       "<Figure size 720x648 with 1 Axes>"
      ]
     },
     "metadata": {
      "needs_background": "light"
     },
     "output_type": "display_data"
    }
   ],
   "source": [
    "finax = tripTempDf.plot(kind='area',stacked=False,alpha=0.2,grid=True, figsize=[10,9])"
   ]
  }
 ],
 "metadata": {
  "kernel_info": {
   "name": "python3"
  },
  "kernelspec": {
   "display_name": "Python 3",
   "language": "python",
   "name": "python3"
  },
  "language_info": {
   "codemirror_mode": {
    "name": "ipython",
    "version": 3
   },
   "file_extension": ".py",
   "mimetype": "text/x-python",
   "name": "python",
   "nbconvert_exporter": "python",
   "pygments_lexer": "ipython3",
   "version": "3.7.1"
  },
  "nteract": {
   "version": "0.9.1"
  },
  "varInspector": {
   "cols": {
    "lenName": 16,
    "lenType": 16,
    "lenVar": 40
   },
   "kernels_config": {
    "python": {
     "delete_cmd_postfix": "",
     "delete_cmd_prefix": "del ",
     "library": "var_list.py",
     "varRefreshCmd": "print(var_dic_list())"
    },
    "r": {
     "delete_cmd_postfix": ") ",
     "delete_cmd_prefix": "rm(",
     "library": "var_list.r",
     "varRefreshCmd": "cat(var_dic_list()) "
    }
   },
   "types_to_exclude": [
    "module",
    "function",
    "builtin_function_or_method",
    "instance",
    "_Feature"
   ],
   "window_display": false
  }
 },
 "nbformat": 4,
 "nbformat_minor": 2
}
